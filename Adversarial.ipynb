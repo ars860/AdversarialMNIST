{
 "cells": [
  {
   "cell_type": "code",
   "execution_count": 158,
   "metadata": {
    "collapsed": true
   },
   "outputs": [],
   "source": [
    "import matplotlib.pyplot as plt\n",
    "import torch\n",
    "import torchvision\n",
    "from torch import nn\n",
    "from torchvision import transforms\n",
    "import torch.nn.functional as F\n",
    "\n",
    "from MNISTModel import Feedforward"
   ]
  },
  {
   "cell_type": "code",
   "execution_count": 159,
   "outputs": [],
   "source": [
    "mnist_dataset = torchvision.datasets.MNIST('./data', download=True, train=True, transform=transforms.ToTensor())"
   ],
   "metadata": {
    "collapsed": false,
    "pycharm": {
     "name": "#%%\n"
    }
   }
  },
  {
   "cell_type": "markdown",
   "source": [
    "## Get some image"
   ],
   "metadata": {
    "collapsed": false
   }
  },
  {
   "cell_type": "code",
   "execution_count": 160,
   "outputs": [
    {
     "data": {
      "text/plain": "<Figure size 432x288 with 1 Axes>",
      "image/png": "[encoded data removed]"
     },
     "metadata": {
      "needs_background": "light"
     },
     "output_type": "display_data"
    }
   ],
   "source": [
    "image = torch.Tensor(mnist_dataset[0][0])\n",
    "plt.imshow(mnist_dataset[0][0].numpy().squeeze(), cmap=\"binary\")\n",
    "plt.title(mnist_dataset[0][1])\n",
    "plt.show()"
   ],
   "metadata": {
    "collapsed": false,
    "pycharm": {
     "name": "#%%\n"
    }
   }
  },
  {
   "cell_type": "markdown",
   "source": [
    "## Our goal is to create image similar to this, but misclassified as 8"
   ],
   "metadata": {
    "collapsed": false
   }
  },
  {
   "cell_type": "code",
   "execution_count": 161,
   "outputs": [],
   "source": [
    "target = torch.LongTensor([8])"
   ],
   "metadata": {
    "collapsed": false,
    "pycharm": {
     "name": "#%%\n"
    }
   }
  },
  {
   "cell_type": "markdown",
   "source": [
    "## SIMPLE mnist feed forward model"
   ],
   "metadata": {
    "collapsed": false
   }
  },
  {
   "cell_type": "code",
   "execution_count": 162,
   "outputs": [
    {
     "data": {
      "text/plain": "<All keys matched successfully>"
     },
     "execution_count": 162,
     "metadata": {},
     "output_type": "execute_result"
    }
   ],
   "source": [
    "ffn = Feedforward()\n",
    "ffn.load_state_dict(torch.load(\"./models/mnist.pt\", map_location=\"cpu\"))"
   ],
   "metadata": {
    "collapsed": false,
    "pycharm": {
     "name": "#%%\n"
    }
   }
  },
  {
   "cell_type": "markdown",
   "source": [
    "## Find adversarial example via gradient descent"
   ],
   "metadata": {
    "collapsed": false
   }
  },
  {
   "cell_type": "code",
   "execution_count": 163,
   "outputs": [
    {
     "name": "stdout",
     "output_type": "stream",
     "text": [
      "epoch: [1/110], loss: 20.495723724365234\n",
      "epoch: [2/110], loss: 20.245330810546875\n",
      "epoch: [3/110], loss: 19.99039649963379\n",
      "epoch: [4/110], loss: 19.73032569885254\n",
      "epoch: [5/110], loss: 19.463327407836914\n",
      "epoch: [6/110], loss: 19.188798904418945\n",
      "epoch: [7/110], loss: 18.90581512451172\n",
      "epoch: [8/110], loss: 18.614850997924805\n",
      "epoch: [9/110], loss: 18.316448211669922\n",
      "epoch: [10/110], loss: 18.018341064453125\n",
      "epoch: [11/110], loss: 17.7126522064209\n",
      "epoch: [12/110], loss: 17.400733947753906\n",
      "epoch: [13/110], loss: 17.08266830444336\n",
      "epoch: [14/110], loss: 16.760774612426758\n",
      "epoch: [15/110], loss: 16.435007095336914\n",
      "epoch: [16/110], loss: 16.10740852355957\n",
      "epoch: [17/110], loss: 15.778290748596191\n",
      "epoch: [18/110], loss: 15.449041366577148\n",
      "epoch: [19/110], loss: 15.120774269104004\n",
      "epoch: [20/110], loss: 14.795219421386719\n",
      "epoch: [21/110], loss: 14.473710060119629\n",
      "epoch: [22/110], loss: 14.158580780029297\n",
      "epoch: [23/110], loss: 13.850309371948242\n",
      "epoch: [24/110], loss: 13.55074691772461\n",
      "epoch: [25/110], loss: 13.260400772094727\n",
      "epoch: [26/110], loss: 12.980435371398926\n",
      "epoch: [27/110], loss: 12.710627555847168\n",
      "epoch: [28/110], loss: 12.451519012451172\n",
      "epoch: [29/110], loss: 12.202162742614746\n",
      "epoch: [30/110], loss: 11.962047576904297\n",
      "epoch: [31/110], loss: 11.729562759399414\n",
      "epoch: [32/110], loss: 11.505058288574219\n",
      "epoch: [33/110], loss: 11.285863876342773\n",
      "epoch: [34/110], loss: 11.069906234741211\n",
      "epoch: [35/110], loss: 10.855049133300781\n",
      "epoch: [36/110], loss: 10.641358375549316\n",
      "epoch: [37/110], loss: 10.426721572875977\n",
      "epoch: [38/110], loss: 10.209776878356934\n",
      "epoch: [39/110], loss: 9.989216804504395\n",
      "epoch: [40/110], loss: 9.763850212097168\n",
      "epoch: [41/110], loss: 9.532590866088867\n",
      "epoch: [42/110], loss: 9.295084953308105\n",
      "epoch: [43/110], loss: 9.051769256591797\n",
      "epoch: [44/110], loss: 8.806102752685547\n",
      "epoch: [45/110], loss: 8.559004783630371\n",
      "epoch: [46/110], loss: 8.312734603881836\n",
      "epoch: [47/110], loss: 8.068154335021973\n",
      "epoch: [48/110], loss: 7.827330589294434\n",
      "epoch: [49/110], loss: 7.591531753540039\n",
      "epoch: [50/110], loss: 7.362425327301025\n",
      "epoch: [51/110], loss: 7.14097261428833\n",
      "epoch: [52/110], loss: 6.927606582641602\n",
      "epoch: [53/110], loss: 6.721238136291504\n",
      "epoch: [54/110], loss: 6.521274089813232\n",
      "epoch: [55/110], loss: 6.326798439025879\n",
      "epoch: [56/110], loss: 6.139443397521973\n",
      "epoch: [57/110], loss: 5.956515312194824\n",
      "epoch: [58/110], loss: 5.7778215408325195\n",
      "epoch: [59/110], loss: 5.603089332580566\n",
      "epoch: [60/110], loss: 5.434850215911865\n",
      "epoch: [61/110], loss: 5.270358562469482\n",
      "epoch: [62/110], loss: 5.108646869659424\n",
      "epoch: [63/110], loss: 4.950347900390625\n",
      "epoch: [64/110], loss: 4.7949910163879395\n",
      "epoch: [65/110], loss: 4.641512870788574\n",
      "epoch: [66/110], loss: 4.491302013397217\n",
      "epoch: [67/110], loss: 4.342299461364746\n",
      "epoch: [68/110], loss: 4.196008682250977\n",
      "epoch: [69/110], loss: 4.051085948944092\n",
      "epoch: [70/110], loss: 3.9073076248168945\n",
      "epoch: [71/110], loss: 3.7647294998168945\n",
      "epoch: [72/110], loss: 3.624300479888916\n",
      "epoch: [73/110], loss: 3.4856977462768555\n",
      "epoch: [74/110], loss: 3.3493337631225586\n",
      "epoch: [75/110], loss: 3.2156126499176025\n",
      "epoch: [76/110], loss: 3.0854110717773438\n",
      "epoch: [77/110], loss: 2.958385944366455\n",
      "epoch: [78/110], loss: 2.8365328311920166\n",
      "epoch: [79/110], loss: 2.71840500831604\n",
      "epoch: [80/110], loss: 2.6044840812683105\n",
      "epoch: [81/110], loss: 2.4944283962249756\n",
      "epoch: [82/110], loss: 2.3893165588378906\n",
      "epoch: [83/110], loss: 2.287954807281494\n",
      "epoch: [84/110], loss: 2.191527843475342\n",
      "epoch: [85/110], loss: 2.0985798835754395\n",
      "epoch: [86/110], loss: 2.0094985961914062\n",
      "epoch: [87/110], loss: 1.9234116077423096\n",
      "epoch: [88/110], loss: 1.8402855396270752\n",
      "epoch: [89/110], loss: 1.759451150894165\n",
      "epoch: [90/110], loss: 1.680344820022583\n",
      "epoch: [91/110], loss: 1.602553367614746\n",
      "epoch: [92/110], loss: 1.525777816772461\n",
      "epoch: [93/110], loss: 1.4492309093475342\n",
      "epoch: [94/110], loss: 1.373328447341919\n",
      "epoch: [95/110], loss: 1.2970600128173828\n",
      "epoch: [96/110], loss: 1.220711350440979\n",
      "epoch: [97/110], loss: 1.1437702178955078\n",
      "epoch: [98/110], loss: 1.066384196281433\n",
      "epoch: [99/110], loss: 0.9886672496795654\n",
      "epoch: [100/110], loss: 0.9105626940727234\n",
      "epoch: [101/110], loss: 0.8320329785346985\n",
      "epoch: [102/110], loss: 0.7540870308876038\n",
      "epoch: [103/110], loss: 0.6769629120826721\n",
      "epoch: [104/110], loss: 0.6019458174705505\n",
      "epoch: [105/110], loss: 0.5300224423408508\n",
      "epoch: [106/110], loss: 0.4627685844898224\n",
      "epoch: [107/110], loss: 0.401039183139801\n",
      "epoch: [108/110], loss: 0.3457113802433014\n",
      "epoch: [109/110], loss: 0.297055721282959\n",
      "epoch: [110/110], loss: 0.2550622820854187\n"
     ]
    }
   ],
   "source": [
    "loss_function = nn.CrossEntropyLoss()\n",
    "\n",
    "num_epochs = 110\n",
    "eps = 0.001\n",
    "losses = []\n",
    "accuracies = []\n",
    "lrs = []\n",
    "for epoch in range(num_epochs):\n",
    "    image.requires_grad = True\n",
    "\n",
    "    output = ffn(image.reshape(1, -1))\n",
    "    loss = loss_function(output.reshape(1, -1), target)\n",
    "\n",
    "    ffn.zero_grad()\n",
    "    loss.backward(retain_graph=True)\n",
    "\n",
    "    img_grad = image.grad.data\n",
    "\n",
    "    image = torch.clip(image - eps * img_grad.sign(), 0, 1).detach()\n",
    "\n",
    "    print(f'epoch: [{epoch + 1}/{num_epochs}], loss: {loss}')\n",
    "    losses.append(loss)"
   ],
   "metadata": {
    "collapsed": false,
    "pycharm": {
     "name": "#%%\n"
    }
   }
  },
  {
   "cell_type": "code",
   "execution_count": 164,
   "outputs": [
    {
     "data": {
      "text/plain": "<Figure size 432x288 with 1 Axes>",
      "image/png": "[encoded data removed]"
     },
     "metadata": {
      "needs_background": "light"
     },
     "output_type": "display_data"
    }
   ],
   "source": [
    "plt.bar(range(10), F.softmax(ffn(image.reshape(1, -1)), dim=1).detach().numpy().squeeze())\n",
    "plt.xticks(range(10))\n",
    "plt.show()"
   ],
   "metadata": {
    "collapsed": false,
    "pycharm": {
     "name": "#%%\n"
    }
   }
  },
  {
   "cell_type": "code",
   "execution_count": 165,
   "outputs": [
    {
     "data": {
      "text/plain": "<Figure size 432x288 with 1 Axes>",
      "image/png": "[encoded data removed]"
     },
     "metadata": {
      "needs_background": "light"
     },
     "output_type": "display_data"
    }
   ],
   "source": [
    "plt.imshow(image.detach().reshape(28, 28), cmap=\"binary\")\n",
    "plt.title(f\"Classified as {ffn(image.reshape(1, -1)).argmax().item()}\")\n",
    "plt.show()"
   ],
   "metadata": {
    "collapsed": false,
    "pycharm": {
     "name": "#%%\n"
    }
   }
  }
 ],
 "metadata": {
  "kernelspec": {
   "display_name": "Python 3",
   "language": "python",
   "name": "python3"
  },
  "language_info": {
   "codemirror_mode": {
    "name": "ipython",
    "version": 2
   },
   "file_extension": ".py",
   "mimetype": "text/x-python",
   "name": "python",
   "nbconvert_exporter": "python",
   "pygments_lexer": "ipython2",
   "version": "2.7.6"
  }
 },
 "nbformat": 4,
 "nbformat_minor": 0
}